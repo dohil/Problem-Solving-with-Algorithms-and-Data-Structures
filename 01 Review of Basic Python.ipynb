{
    "cells": [
        {
            "cell_type": "markdown",
            "source": [
                "# Review of Basic Python"
            ],
            "metadata": {}
        },
        {
            "cell_type": "markdown",
            "source": [
                "Python is a modern, easy-to-learn, object-oriented programming language. It has a powerful\r\n",
                "set of built-in data types and easy-to-use control constructs. Since Python is an interpreted\r\n",
                "language, it is most easily reviewed by simply looking at and describing interactive sessions.\r\n",
                "\r\n",
                "You should recall that the interpreter displays the familiar `>>>` prompt and then evaluates the\r\n",
                "Python construct that you provide. For example,\r\n"
            ],
            "metadata": {}
        },
        {
            "cell_type": "code",
            "execution_count": 1,
            "source": [
                "print(\"Algorithms and Data Structures\")"
            ],
            "outputs": [
                {
                    "output_type": "stream",
                    "name": "stdout",
                    "text": [
                        "Algorithms and Data Structures\n"
                    ]
                }
            ],
            "metadata": {}
        },
        {
            "cell_type": "markdown",
            "source": [
                "shows the prompt, the print function, the result, and the next prompt."
            ],
            "metadata": {}
        },
        {
            "cell_type": "markdown",
            "source": [
                "## Getting Started with Data\r\n",
                "We stated above that Python supports the **object-oriented programming paradigm**. This means\r\n",
                "that Python considers data to be the focal point of the **problem-solving process**. In Python, as\r\n",
                "well as in any other object-oriented programming language, we define a **class** to be a description\r\n",
                "of what the data look like (**the state**) and what the data can do (**the behavior**). \r\n",
                "\r\n",
                "**Classes** are analogous to **abstract data types** because a user of a class only sees the state and behavior of\r\n",
                "a data item. Data items are called **objects** in the object-oriented paradigm. *An object is an instance of a class.*"
            ],
            "metadata": {}
        },
        {
            "cell_type": "markdown",
            "source": [
                "## Getting Started with Data\r\n",
                "We will begin our review by considering the atomic data types. Python has two main built-in\r\n",
                "numeric classes that implement the integer and floating point data types. These Python classes\r\n",
                "are called `int` and `float`.\r\n",
                "\r\n",
                "The standard **arithmetic operations**, `+`, `−`, `*`, `/`, and `**` (**exponentiation**), can be used with parentheses forcing the order of operations away from normal operator\r\n",
                "precedence. Other very useful operations are the remainder (modulo) operator, %, and **integer division**, `//`. Note that when two integers are divided, the result is a floating point. The **integer division** operator returns the **integer portion** of the **quotient** by** truncating any fractional part**.\r\n",
                "\r\n",
                "**Operation Name Operator Explanation**\r\n",
                "- less than `<` Less than operator\r\n",
                "- greater than `>` Greater than operator\r\n",
                "- less than or equal `<=` Less than or equal to operator\r\n",
                "- greater than or equal `>=` Greater than or equal to operator\r\n",
                "- equal `==` Equality operator\r\n",
                "- not equal `=!` Not equal operator\r\n",
                "- logical `and` and Both operands True for result to be True\r\n",
                "- logical `or` or Either operand True for result to be True\r\n",
                "- logical not not Negates the truth value: False becomes True, True becomes False"
            ],
            "metadata": {}
        },
        {
            "cell_type": "code",
            "execution_count": 2,
            "source": [
                "print(2+3*4) #14\r\n",
                "print((2+3)*4) #20\r\n",
                "print(2**10) #1024\r\n",
                "print(6/3) #2.0\r\n",
                "print(7/3) #2.33333333333\r\n",
                "print(7//3) #2\r\n",
                "print(7%3) #1\r\n",
                "print(3/6) #0.5\r\n",
                "print(3//6) #0\r\n",
                "print(3%6) #3\r\n",
                "print(2**100) # 1267650600228229401496703205376"
            ],
            "outputs": [
                {
                    "output_type": "stream",
                    "name": "stdout",
                    "text": [
                        "14\n",
                        "20\n",
                        "1024\n",
                        "2.0\n",
                        "2.3333333333333335\n",
                        "2\n",
                        "1\n",
                        "0.5\n",
                        "0\n",
                        "3\n",
                        "1267650600228229401496703205376\n"
                    ]
                }
            ],
            "metadata": {}
        },
        {
            "cell_type": "markdown",
            "source": [
                "The boolean data type, implemented as the Python `bool` class, will be quite useful for\r\n",
                "representing truth values. The possible state values for a boolean object are `True` and `False`\r\n",
                "with the standard boolean operators, `and`, `or`, and `not`."
            ],
            "metadata": {}
        },
        {
            "cell_type": "code",
            "execution_count": 4,
            "source": [
                "print(True)\r\n",
                "print(False)\r\n",
                "print(True or False)\r\n",
                "print(True and True)\r\n",
                "print(not (False and True))"
            ],
            "outputs": [
                {
                    "output_type": "stream",
                    "name": "stdout",
                    "text": [
                        "True\n",
                        "False\n",
                        "True\n",
                        "True\n",
                        "True\n"
                    ]
                }
            ],
            "metadata": {}
        },
        {
            "cell_type": "markdown",
            "source": [
                "Boolean data objects are also used as results for comparison operators such as equality (`==`)\r\n",
                "and greater than (`>`). In addition, relational operators and logical operators can be combined\r\n",
                "together to form complex logical questions."
            ],
            "metadata": {}
        },
        {
            "cell_type": "code",
            "execution_count": 5,
            "source": [
                "print(5 == 10)\r\n",
                "print(10 > 5)"
            ],
            "outputs": [
                {
                    "output_type": "stream",
                    "name": "stdout",
                    "text": [
                        "False\n",
                        "True\n"
                    ]
                }
            ],
            "metadata": {}
        },
        {
            "cell_type": "markdown",
            "source": [
                "Identifiers are used in programming languages as names. In Python, identifiers start with a\r\n",
                "**letter** or **an underscore** (`_`), are **case sensitive**, and can be of any length. Remember that it is\r\n",
                "always a good idea to use names that convey meaning so that your program code is easier to\r\n",
                "read and understand.\r\n",
                "A Python variable is created when a name is used for the first time on the left-hand side of\r\n",
                "an assignment statement. Assignment statements provide a way to associate a name with a\r\n",
                "value. The variable will hold a reference to a piece of data and not the data itself. Consider the\r\n",
                "following session:"
            ],
            "metadata": {}
        },
        {
            "cell_type": "code",
            "execution_count": 6,
            "source": [
                "the_sum = 0\r\n",
                "the_sum"
            ],
            "outputs": [
                {
                    "output_type": "execute_result",
                    "data": {
                        "text/plain": [
                            "0"
                        ]
                    },
                    "metadata": {},
                    "execution_count": 6
                }
            ],
            "metadata": {}
        },
        {
            "cell_type": "code",
            "execution_count": 7,
            "source": [
                "the_sum = the_sum + 1\r\n",
                "the_sum "
            ],
            "outputs": [
                {
                    "output_type": "execute_result",
                    "data": {
                        "text/plain": [
                            "1"
                        ]
                    },
                    "metadata": {},
                    "execution_count": 7
                }
            ],
            "metadata": {}
        },
        {
            "cell_type": "code",
            "execution_count": 8,
            "source": [
                "the_sum = True\r\n",
                "the_sum"
            ],
            "outputs": [
                {
                    "output_type": "execute_result",
                    "data": {
                        "text/plain": [
                            "True"
                        ]
                    },
                    "metadata": {},
                    "execution_count": 8
                }
            ],
            "metadata": {}
        },
        {
            "cell_type": "markdown",
            "source": [
                "**Operation Name Operator Explanation**\r\n",
                "- indexing `[ ]` Access an element of a sequence\r\n",
                "- concatenation `+` Combine sequences together\r\n",
                "- repetition `*` Concatenate a repeated number of times\r\n",
                "- membership `in` Ask whether an item is in a sequence\r\n",
                "- length `len` Ask the number of items in the sequence\r\n",
                "- slicing [ `:` ] Extract a part of a sequence"
            ],
            "metadata": {}
        },
        {
            "cell_type": "code",
            "execution_count": 15,
            "source": [
                "print([1,3,True,6.5])"
            ],
            "outputs": [
                {
                    "output_type": "stream",
                    "name": "stdout",
                    "text": [
                        "[1, 3, True, 6.5]\n"
                    ]
                }
            ],
            "metadata": {}
        },
        {
            "cell_type": "code",
            "execution_count": 2,
            "source": [
                "my_list = [1,3,True,6.5]\r\n",
                "my_list"
            ],
            "outputs": [
                {
                    "output_type": "execute_result",
                    "data": {
                        "text/plain": [
                            "[1, 3, True, 6.5]"
                        ]
                    },
                    "metadata": {},
                    "execution_count": 2
                }
            ],
            "metadata": {}
        },
        {
            "cell_type": "code",
            "execution_count": null,
            "source": [
                "# Ask whether an item is in a sequence\r\n",
                "3 in  my_list"
            ],
            "outputs": [],
            "metadata": {}
        },
        {
            "cell_type": "code",
            "execution_count": 3,
            "source": [
                "my_list + [False]"
            ],
            "outputs": [
                {
                    "output_type": "execute_result",
                    "data": {
                        "text/plain": [
                            "[1, 3, True, 6.5, False]"
                        ]
                    },
                    "metadata": {},
                    "execution_count": 3
                }
            ],
            "metadata": {}
        },
        {
            "cell_type": "code",
            "execution_count": 4,
            "source": [
                "my_list * 2"
            ],
            "outputs": [
                {
                    "output_type": "execute_result",
                    "data": {
                        "text/plain": [
                            "[1, 3, True, 6.5, 1, 3, True, 6.5]"
                        ]
                    },
                    "metadata": {},
                    "execution_count": 4
                }
            ],
            "metadata": {}
        },
        {
            "cell_type": "code",
            "execution_count": 5,
            "source": [
                "my_list = [0] * 6\r\n",
                "my_list"
            ],
            "outputs": [
                {
                    "output_type": "execute_result",
                    "data": {
                        "text/plain": [
                            "[0, 0, 0, 0, 0, 0]"
                        ]
                    },
                    "metadata": {},
                    "execution_count": 5
                }
            ],
            "metadata": {}
        },
        {
            "cell_type": "markdown",
            "source": [
                "### Important Methods used in list class\r\n",
                "Method      Name                    Use Explanation\r\n",
                "- append     `a_list.append(item)` Adds a new item to the end of a list\r\n",
                "- insert     `a_list.insert(i,item)` Inserts an item at the 𝑖th position in a list\r\n",
                "- pop        `a_list.pop()` Removes and returns the last item in a list\r\n",
                "- pop        `a_list.pop(i)` Removes and returns the 𝑖th item in a list\r\n",
                "- sort       `a_list.sort()` Modifies a list to be sorted\r\n",
                "- reverse    `a_list.reverse()` Modifies a list to be in reverse order\r\n",
                "- del        `del a_list[i]` Deletes the item in the 𝑖th position\r\n",
                "- index      `a_list.index(item) `Returns the index of the first occurrence of item\r\n",
                "- count      `a_list.count(item)` Returns the number of occurrences of item\r\n",
                "- remove     `a_list.remove(item)` Removes the first occurrence of item"
            ],
            "metadata": {}
        },
        {
            "cell_type": "code",
            "execution_count": 6,
            "source": [
                "my_list = [1024, 3, True, 6.5]\r\n",
                "my_list.append(False)\r\n",
                "print(my_list)\r\n",
                "\r\n",
                "my_list.insert(2,4.5)\r\n",
                "print(my_list)\r\n",
                "\r\n",
                "print(my_list.pop())\r\n",
                "print(my_list)\r\n",
                "\r\n",
                "print(my_list.pop(1))\r\n",
                "print(my_list)\r\n",
                "\r\n",
                "my_list.pop(2)\r\n",
                "print(my_list)\r\n",
                "\r\n",
                "my_list.sort() # All data type in the list should be in same type\r\n",
                "print(my_list)\r\n",
                "\r\n",
                "my_list.reverse()\r\n",
                "print(my_list)\r\n",
                "\r\n",
                "print(my_list.count(6.5))\r\n",
                "\r\n",
                "print(my_list.index(4.5))\r\n",
                "\r\n",
                "my_list.remove(6.5)\r\n",
                "print(my_list)\r\n",
                "\r\n",
                "del my_list[0]\r\n",
                "print(my_list)"
            ],
            "outputs": [
                {
                    "output_type": "stream",
                    "name": "stdout",
                    "text": [
                        "[1024, 3, True, 6.5, False]\n",
                        "[1024, 3, 4.5, True, 6.5, False]\n",
                        "False\n",
                        "[1024, 3, 4.5, True, 6.5]\n",
                        "3\n",
                        "[1024, 4.5, True, 6.5]\n",
                        "[1024, 4.5, 6.5]\n",
                        "[4.5, 6.5, 1024]\n",
                        "[1024, 6.5, 4.5]\n",
                        "1\n",
                        "2\n",
                        "[1024, 4.5]\n",
                        "[4.5]\n"
                    ]
                }
            ],
            "metadata": {}
        },
        {
            "cell_type": "markdown",
            "source": [
                "In this fragment we are asking the integer object 54 to execute its add method (called `__add__`\r\n",
                "in Python) and passing it 21 as the value to add. The result is the sum, 75. Of course, we usually\r\n",
                "write this as 54 + 21. We will say much more about these methods later in this section."
            ],
            "metadata": {}
        },
        {
            "cell_type": "code",
            "execution_count": 8,
            "source": [
                "(45).__add__(50)"
            ],
            "outputs": [
                {
                    "output_type": "execute_result",
                    "data": {
                        "text/plain": [
                            "95"
                        ]
                    },
                    "metadata": {},
                    "execution_count": 8
                }
            ],
            "metadata": {}
        },
        {
            "cell_type": "markdown",
            "source": [
                "One common Python function that is often discussed in conjunction with lists is the `range`\r\n",
                "function. range produces a range object that represents a sequence of values. By using the\r\n",
                "`list` function, it is possible to see the value of the range object as a list. This is illustrated\r\n",
                "below."
            ],
            "metadata": {}
        },
        {
            "cell_type": "code",
            "execution_count": 9,
            "source": [
                "range(10)"
            ],
            "outputs": [
                {
                    "output_type": "execute_result",
                    "data": {
                        "text/plain": [
                            "range(0, 10)"
                        ]
                    },
                    "metadata": {},
                    "execution_count": 9
                }
            ],
            "metadata": {}
        },
        {
            "cell_type": "code",
            "execution_count": 10,
            "source": [
                "list(range(10))"
            ],
            "outputs": [
                {
                    "output_type": "execute_result",
                    "data": {
                        "text/plain": [
                            "[0, 1, 2, 3, 4, 5, 6, 7, 8, 9]"
                        ]
                    },
                    "metadata": {},
                    "execution_count": 10
                }
            ],
            "metadata": {}
        },
        {
            "cell_type": "code",
            "execution_count": 11,
            "source": [
                "list(range(5,10))"
            ],
            "outputs": [
                {
                    "output_type": "execute_result",
                    "data": {
                        "text/plain": [
                            "[5, 6, 7, 8, 9]"
                        ]
                    },
                    "metadata": {},
                    "execution_count": 11
                }
            ],
            "metadata": {}
        },
        {
            "cell_type": "code",
            "execution_count": 12,
            "source": [
                "list(range(5,10,2))"
            ],
            "outputs": [
                {
                    "output_type": "execute_result",
                    "data": {
                        "text/plain": [
                            "[5, 7, 9]"
                        ]
                    },
                    "metadata": {},
                    "execution_count": 12
                }
            ],
            "metadata": {}
        },
        {
            "cell_type": "code",
            "execution_count": 13,
            "source": [
                "list(range(10,1,-1))"
            ],
            "outputs": [
                {
                    "output_type": "execute_result",
                    "data": {
                        "text/plain": [
                            "[10, 9, 8, 7, 6, 5, 4, 3, 2]"
                        ]
                    },
                    "metadata": {},
                    "execution_count": 13
                }
            ],
            "metadata": {}
        },
        {
            "cell_type": "code",
            "execution_count": null,
            "source": [],
            "outputs": [],
            "metadata": {}
        }
    ],
    "metadata": {
        "orig_nbformat": 4,
        "language_info": {
            "name": "python",
            "version": "3.7.4",
            "mimetype": "text/x-python",
            "codemirror_mode": {
                "name": "ipython",
                "version": 3
            },
            "pygments_lexer": "ipython3",
            "nbconvert_exporter": "python",
            "file_extension": ".py"
        },
        "kernelspec": {
            "name": "python3",
            "display_name": "Python 3.7.4 64-bit ('base': conda)"
        },
        "interpreter": {
            "hash": "7dae6437c12b1d87f00e0e10a4bd22be66a3b8ec05fb1161d95372f28c39fa9e"
        }
    },
    "nbformat": 4,
    "nbformat_minor": 2
}