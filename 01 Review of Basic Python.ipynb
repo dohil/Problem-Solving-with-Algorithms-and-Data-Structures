{
  "nbformat": 4,
  "nbformat_minor": 0,
  "metadata": {
    "orig_nbformat": 4,
    "language_info": {
      "name": "python",
      "version": "3.7.4",
      "mimetype": "text/x-python",
      "codemirror_mode": {
        "name": "ipython",
        "version": 3
      },
      "pygments_lexer": "ipython3",
      "nbconvert_exporter": "python",
      "file_extension": ".py"
    },
    "kernelspec": {
      "name": "python3",
      "display_name": "Python 3.7.4 64-bit ('base': conda)"
    },
    "interpreter": {
      "hash": "7dae6437c12b1d87f00e0e10a4bd22be66a3b8ec05fb1161d95372f28c39fa9e"
    },
    "colab": {
      "name": "01 Review of Basic Python.ipynb",
      "provenance": []
    }
  },
  "cells": [
    {
      "cell_type": "markdown",
      "metadata": {
        "id": "Ol_sCiquA0jw"
      },
      "source": [
        "# Review of Basic Python"
      ]
    },
    {
      "cell_type": "markdown",
      "metadata": {
        "id": "VfOqqrA-A0jy"
      },
      "source": [
        "Python is a modern, easy-to-learn, object-oriented programming language. It has a powerful\n",
        "set of built-in data types and easy-to-use control constructs. Since Python is an interpreted\n",
        "language, it is most easily reviewed by simply looking at and describing interactive sessions.\n",
        "\n",
        "You should recall that the interpreter displays the familiar `>>>` prompt and then evaluates the\n",
        "Python construct that you provide. For example,\n"
      ]
    },
    {
      "cell_type": "code",
      "metadata": {
        "id": "BU1Vr2fTA0jz",
        "outputId": "810af56c-890e-451d-a944-871e411045f2"
      },
      "source": [
        "print(\"Algorithms and Data Structures\")"
      ],
      "execution_count": null,
      "outputs": [
        {
          "output_type": "stream",
          "text": [
            "Algorithms and Data Structures\n"
          ],
          "name": "stdout"
        }
      ]
    },
    {
      "cell_type": "markdown",
      "metadata": {
        "id": "n0_9Fe65A0j0"
      },
      "source": [
        "shows the prompt, the print function, the result, and the next prompt."
      ]
    },
    {
      "cell_type": "markdown",
      "metadata": {
        "id": "lTlF-xXMA0j0"
      },
      "source": [
        "## Getting Started with Data\n",
        "We stated above that Python supports the **object-oriented programming paradigm**. This means\n",
        "that Python considers data to be the focal point of the **problem-solving process**. In Python, as\n",
        "well as in any other object-oriented programming language, we define a **class** to be a description\n",
        "of what the data look like (**the state**) and what the data can do (**the behavior**). \n",
        "\n",
        "**Classes** are analogous to **abstract data types** because a user of a class only sees the state and behavior of\n",
        "a data item. Data items are called **objects** in the object-oriented paradigm. *An object is an instance of a class.*"
      ]
    },
    {
      "cell_type": "markdown",
      "metadata": {
        "id": "Iba1qrmiA0j0"
      },
      "source": [
        "## Getting Started with Data\n",
        "We will begin our review by considering the atomic data types. Python has two main built-in\n",
        "numeric classes that implement the integer and floating point data types. These Python classes\n",
        "are called `int` and `float`.\n",
        "\n",
        "The standard **arithmetic operations**, `+`, `−`, `*`, `/`, and `**` (**exponentiation**), can be used with parentheses forcing the order of operations away from normal operator\n",
        "precedence. Other very useful operations are the remainder (modulo) operator, %, and **integer division**, `//`. Note that when two integers are divided, the result is a floating point. The **integer division** operator returns the **integer portion** of the **quotient** by** truncating any fractional part**.\n",
        "\n",
        "**Operation Name Operator Explanation**\n",
        "- less than `<` Less than operator\n",
        "- greater than `>` Greater than operator\n",
        "- less than or equal `<=` Less than or equal to operator\n",
        "- greater than or equal `>=` Greater than or equal to operator\n",
        "- equal `==` Equality operator\n",
        "- not equal `=!` Not equal operator\n",
        "- logical `and` and Both operands True for result to be True\n",
        "- logical `or` or Either operand True for result to be True\n",
        "- logical not not Negates the truth value: False becomes True, True becomes False"
      ]
    },
    {
      "cell_type": "code",
      "metadata": {
        "id": "JhIowOWrA0j1",
        "outputId": "713e84b9-982b-4953-ed93-0c867c42a11d"
      },
      "source": [
        "print(2+3*4) #14\n",
        "print((2+3)*4) #20\n",
        "print(2**10) #1024\n",
        "print(6/3) #2.0\n",
        "print(7/3) #2.33333333333\n",
        "print(7//3) #2\n",
        "print(7%3) #1\n",
        "print(3/6) #0.5\n",
        "print(3//6) #0\n",
        "print(3%6) #3\n",
        "print(2**100) # 1267650600228229401496703205376"
      ],
      "execution_count": null,
      "outputs": [
        {
          "output_type": "stream",
          "text": [
            "14\n",
            "20\n",
            "1024\n",
            "2.0\n",
            "2.3333333333333335\n",
            "2\n",
            "1\n",
            "0.5\n",
            "0\n",
            "3\n",
            "1267650600228229401496703205376\n"
          ],
          "name": "stdout"
        }
      ]
    },
    {
      "cell_type": "markdown",
      "metadata": {
        "id": "avkyaetoA0j2"
      },
      "source": [
        "The boolean data type, implemented as the Python `bool` class, will be quite useful for\n",
        "representing truth values. The possible state values for a boolean object are `True` and `False`\n",
        "with the standard boolean operators, `and`, `or`, and `not`."
      ]
    },
    {
      "cell_type": "code",
      "metadata": {
        "id": "iXpAFeQWA0j2",
        "outputId": "46474be4-cef5-4767-a1fa-def07c2f31db"
      },
      "source": [
        "print(True)\n",
        "print(False)\n",
        "print(True or False)\n",
        "print(True and True)\n",
        "print(not (False and True))"
      ],
      "execution_count": null,
      "outputs": [
        {
          "output_type": "stream",
          "text": [
            "True\n",
            "False\n",
            "True\n",
            "True\n",
            "True\n"
          ],
          "name": "stdout"
        }
      ]
    },
    {
      "cell_type": "markdown",
      "metadata": {
        "id": "nXHpEmQKA0j3"
      },
      "source": [
        "Boolean data objects are also used as results for comparison operators such as equality (`==`)\n",
        "and greater than (`>`). In addition, relational operators and logical operators can be combined\n",
        "together to form complex logical questions."
      ]
    },
    {
      "cell_type": "code",
      "metadata": {
        "id": "4xtf9ThhA0j3",
        "outputId": "c0185b25-838e-4b48-96e5-2a8b828b50a0"
      },
      "source": [
        "print(5 == 10)\n",
        "print(10 > 5)"
      ],
      "execution_count": null,
      "outputs": [
        {
          "output_type": "stream",
          "text": [
            "False\n",
            "True\n"
          ],
          "name": "stdout"
        }
      ]
    },
    {
      "cell_type": "markdown",
      "metadata": {
        "id": "ub_fSo_LA0j3"
      },
      "source": [
        "Identifiers are used in programming languages as names. In Python, identifiers start with a\n",
        "**letter** or **an underscore** (`_`), are **case sensitive**, and can be of any length. Remember that it is\n",
        "always a good idea to use names that convey meaning so that your program code is easier to\n",
        "read and understand.\n",
        "A Python variable is created when a name is used for the first time on the left-hand side of\n",
        "an assignment statement. Assignment statements provide a way to associate a name with a\n",
        "value. The variable will hold a reference to a piece of data and not the data itself. Consider the\n",
        "following session:"
      ]
    },
    {
      "cell_type": "code",
      "metadata": {
        "id": "Yojs54VeA0j4",
        "outputId": "8e6d776f-eb05-421d-8ded-8f85fee0bfbf"
      },
      "source": [
        "the_sum = 0\n",
        "the_sum"
      ],
      "execution_count": null,
      "outputs": [
        {
          "output_type": "execute_result",
          "data": {
            "text/plain": [
              "0"
            ]
          },
          "metadata": {
            "tags": []
          },
          "execution_count": 6
        }
      ]
    },
    {
      "cell_type": "code",
      "metadata": {
        "id": "rR6hnBukA0j4",
        "outputId": "9d9820f2-6bbb-4884-d590-67a8c68bed48"
      },
      "source": [
        "the_sum = the_sum + 1\n",
        "the_sum "
      ],
      "execution_count": null,
      "outputs": [
        {
          "output_type": "execute_result",
          "data": {
            "text/plain": [
              "1"
            ]
          },
          "metadata": {
            "tags": []
          },
          "execution_count": 7
        }
      ]
    },
    {
      "cell_type": "code",
      "metadata": {
        "id": "QJjO3QjJA0j4",
        "outputId": "059200ee-d88f-4527-b82e-050e3b460d0b"
      },
      "source": [
        "the_sum = True\n",
        "the_sum"
      ],
      "execution_count": null,
      "outputs": [
        {
          "output_type": "execute_result",
          "data": {
            "text/plain": [
              "True"
            ]
          },
          "metadata": {
            "tags": []
          },
          "execution_count": 8
        }
      ]
    },
    {
      "cell_type": "markdown",
      "metadata": {
        "id": "f-bgHZhfA0j5"
      },
      "source": [
        "**Operation Name Operator Explanation**\n",
        "- indexing `[ ]` Access an element of a sequence\n",
        "- concatenation `+` Combine sequences together\n",
        "- repetition `*` Concatenate a repeated number of times\n",
        "- membership `in` Ask whether an item is in a sequence\n",
        "- length `len` Ask the number of items in the sequence\n",
        "- slicing [ `:` ] Extract a part of a sequence"
      ]
    },
    {
      "cell_type": "code",
      "metadata": {
        "id": "LuoQV6CHA0j5",
        "outputId": "9265d548-fcc9-4652-816e-b35f818961a5"
      },
      "source": [
        "print([1,3,True,6.5])"
      ],
      "execution_count": null,
      "outputs": [
        {
          "output_type": "stream",
          "text": [
            "[1, 3, True, 6.5]\n"
          ],
          "name": "stdout"
        }
      ]
    },
    {
      "cell_type": "code",
      "metadata": {
        "id": "Rkkk3nHQA0j5",
        "outputId": "83f2e7de-5c97-4535-ecee-8327b95c62cc"
      },
      "source": [
        "my_list = [1,3,True,6.5]\n",
        "my_list"
      ],
      "execution_count": null,
      "outputs": [
        {
          "output_type": "execute_result",
          "data": {
            "text/plain": [
              "[1, 3, True, 6.5]"
            ]
          },
          "metadata": {
            "tags": []
          },
          "execution_count": 2
        }
      ]
    },
    {
      "cell_type": "code",
      "metadata": {
        "id": "37vizwfRA0j6"
      },
      "source": [
        "# Ask whether an item is in a sequence\n",
        "3 in  my_list"
      ],
      "execution_count": null,
      "outputs": []
    },
    {
      "cell_type": "code",
      "metadata": {
        "id": "20IQw_mlA0j6",
        "outputId": "a045f129-2bbc-4e26-f1d8-f3a36b335073"
      },
      "source": [
        "my_list + [False]"
      ],
      "execution_count": null,
      "outputs": [
        {
          "output_type": "execute_result",
          "data": {
            "text/plain": [
              "[1, 3, True, 6.5, False]"
            ]
          },
          "metadata": {
            "tags": []
          },
          "execution_count": 3
        }
      ]
    },
    {
      "cell_type": "code",
      "metadata": {
        "id": "s0KIVGrKA0j6",
        "outputId": "b0b11acd-5eee-421d-dba0-1c3cb6ecc3f5"
      },
      "source": [
        "my_list * 2"
      ],
      "execution_count": null,
      "outputs": [
        {
          "output_type": "execute_result",
          "data": {
            "text/plain": [
              "[1, 3, True, 6.5, 1, 3, True, 6.5]"
            ]
          },
          "metadata": {
            "tags": []
          },
          "execution_count": 4
        }
      ]
    },
    {
      "cell_type": "code",
      "metadata": {
        "id": "jW0FIk76A0j6",
        "outputId": "84fc4250-620d-4256-f326-1ed8a34e09e8"
      },
      "source": [
        "my_list = [0] * 6\n",
        "my_list"
      ],
      "execution_count": null,
      "outputs": [
        {
          "output_type": "execute_result",
          "data": {
            "text/plain": [
              "[0, 0, 0, 0, 0, 0]"
            ]
          },
          "metadata": {
            "tags": []
          },
          "execution_count": 5
        }
      ]
    },
    {
      "cell_type": "markdown",
      "metadata": {
        "id": "cqUjGgCxA0j6"
      },
      "source": [
        "### Important Methods used in list class\n",
        "Method      Name                    Use Explanation\n",
        "- append     `a_list.append(item)` Adds a new item to the end of a list\n",
        "- insert     `a_list.insert(i,item)` Inserts an item at the 𝑖th position in a list\n",
        "- pop        `a_list.pop()` Removes and returns the last item in a list\n",
        "- pop        `a_list.pop(i)` Removes and returns the 𝑖th item in a list\n",
        "- sort       `a_list.sort()` Modifies a list to be sorted\n",
        "- reverse    `a_list.reverse()` Modifies a list to be in reverse order\n",
        "- del        `del a_list[i]` Deletes the item in the 𝑖th position\n",
        "- index      `a_list.index(item) `Returns the index of the first occurrence of item\n",
        "- count      `a_list.count(item)` Returns the number of occurrences of item\n",
        "- remove     `a_list.remove(item)` Removes the first occurrence of item"
      ]
    },
    {
      "cell_type": "code",
      "metadata": {
        "id": "kEtMIIbWA0j7",
        "outputId": "9e7b7390-ec66-4313-879f-2833e04770b9"
      },
      "source": [
        "my_list = [1024, 3, True, 6.5]\n",
        "my_list.append(False)\n",
        "print(my_list)\n",
        "\n",
        "my_list.insert(2,4.5)\n",
        "print(my_list)\n",
        "\n",
        "print(my_list.pop())\n",
        "print(my_list)\n",
        "\n",
        "print(my_list.pop(1))\n",
        "print(my_list)\n",
        "\n",
        "my_list.pop(2)\n",
        "print(my_list)\n",
        "\n",
        "my_list.sort() # All data type in the list should be in same type\n",
        "print(my_list)\n",
        "\n",
        "my_list.reverse()\n",
        "print(my_list)\n",
        "\n",
        "print(my_list.count(6.5))\n",
        "\n",
        "print(my_list.index(4.5))\n",
        "\n",
        "my_list.remove(6.5)\n",
        "print(my_list)\n",
        "\n",
        "del my_list[0]\n",
        "print(my_list)"
      ],
      "execution_count": null,
      "outputs": [
        {
          "output_type": "stream",
          "text": [
            "[1024, 3, True, 6.5, False]\n",
            "[1024, 3, 4.5, True, 6.5, False]\n",
            "False\n",
            "[1024, 3, 4.5, True, 6.5]\n",
            "3\n",
            "[1024, 4.5, True, 6.5]\n",
            "[1024, 4.5, 6.5]\n",
            "[4.5, 6.5, 1024]\n",
            "[1024, 6.5, 4.5]\n",
            "1\n",
            "2\n",
            "[1024, 4.5]\n",
            "[4.5]\n"
          ],
          "name": "stdout"
        }
      ]
    },
    {
      "cell_type": "markdown",
      "metadata": {
        "id": "eCZ7V0vCA0j7"
      },
      "source": [
        "In this fragment we are asking the integer object 54 to execute its add method (called `__add__`\n",
        "in Python) and passing it 21 as the value to add. The result is the sum, 75. Of course, we usually\n",
        "write this as 54 + 21. We will say much more about these methods later in this section."
      ]
    },
    {
      "cell_type": "code",
      "metadata": {
        "id": "KCsrSFEiA0j7",
        "outputId": "e25415de-aede-43ac-fe5e-d45b16ac54aa"
      },
      "source": [
        "(45).__add__(50)"
      ],
      "execution_count": null,
      "outputs": [
        {
          "output_type": "execute_result",
          "data": {
            "text/plain": [
              "95"
            ]
          },
          "metadata": {
            "tags": []
          },
          "execution_count": 8
        }
      ]
    },
    {
      "cell_type": "markdown",
      "metadata": {
        "id": "OnO63oZdA0j7"
      },
      "source": [
        "One common Python function that is often discussed in conjunction with lists is the `range`\n",
        "function. range produces a range object that represents a sequence of values. By using the\n",
        "`list` function, it is possible to see the value of the range object as a list. This is illustrated\n",
        "below."
      ]
    },
    {
      "cell_type": "code",
      "metadata": {
        "id": "_5L9HrP8A0j8",
        "outputId": "3423aba8-7c94-43ba-c4a6-8f0fede3d66a"
      },
      "source": [
        "range(10)"
      ],
      "execution_count": null,
      "outputs": [
        {
          "output_type": "execute_result",
          "data": {
            "text/plain": [
              "range(0, 10)"
            ]
          },
          "metadata": {
            "tags": []
          },
          "execution_count": 9
        }
      ]
    },
    {
      "cell_type": "code",
      "metadata": {
        "id": "NVpygFCbA0j8",
        "outputId": "1c9c492e-4486-4fa9-b5a5-191233d07432"
      },
      "source": [
        "list(range(10))"
      ],
      "execution_count": null,
      "outputs": [
        {
          "output_type": "execute_result",
          "data": {
            "text/plain": [
              "[0, 1, 2, 3, 4, 5, 6, 7, 8, 9]"
            ]
          },
          "metadata": {
            "tags": []
          },
          "execution_count": 10
        }
      ]
    },
    {
      "cell_type": "code",
      "metadata": {
        "id": "i8wH7fioA0j8",
        "outputId": "540a8b6a-bdb5-43c9-a57b-9c6794a1bc34"
      },
      "source": [
        "list(range(5,10))"
      ],
      "execution_count": null,
      "outputs": [
        {
          "output_type": "execute_result",
          "data": {
            "text/plain": [
              "[5, 6, 7, 8, 9]"
            ]
          },
          "metadata": {
            "tags": []
          },
          "execution_count": 11
        }
      ]
    },
    {
      "cell_type": "code",
      "metadata": {
        "id": "U5I7r79jA0j8",
        "outputId": "6de6d20e-1f17-40a3-e0d7-e75581be8efb"
      },
      "source": [
        "list(range(5,10,2))"
      ],
      "execution_count": null,
      "outputs": [
        {
          "output_type": "execute_result",
          "data": {
            "text/plain": [
              "[5, 7, 9]"
            ]
          },
          "metadata": {
            "tags": []
          },
          "execution_count": 12
        }
      ]
    },
    {
      "cell_type": "code",
      "metadata": {
        "id": "eIbBXjO0A0j8",
        "outputId": "0e158d09-3c3d-49d1-a32a-68b3e4dd9d15"
      },
      "source": [
        "list(range(10,1,-1))"
      ],
      "execution_count": null,
      "outputs": [
        {
          "output_type": "execute_result",
          "data": {
            "text/plain": [
              "[10, 9, 8, 7, 6, 5, 4, 3, 2]"
            ]
          },
          "metadata": {
            "tags": []
          },
          "execution_count": 13
        }
      ]
    },
    {
      "cell_type": "markdown",
      "metadata": {
        "id": "-J_QnMvYDEh7"
      },
      "source": [
        "**Strings** are sequential collections of zero or more letters, numbers and other symbols. We call \n",
        "these letters, numbers and other symbols **characters**.  Literal string values are differentiated from \n",
        "identifiers by using quotation marks (either single or double).\n"
      ]
    },
    {
      "cell_type": "code",
      "metadata": {
        "id": "gBVMrGAtDJPL",
        "outputId": "0dd58f4a-b253-45a5-e5ba-a98dc5d0a428",
        "colab": {
          "base_uri": "https://localhost:8080/",
          "height": 35
        }
      },
      "source": [
        "\"David\""
      ],
      "execution_count": 1,
      "outputs": [
        {
          "output_type": "execute_result",
          "data": {
            "application/vnd.google.colaboratory.intrinsic+json": {
              "type": "string"
            },
            "text/plain": [
              "'David'"
            ]
          },
          "metadata": {
            "tags": []
          },
          "execution_count": 1
        }
      ]
    },
    {
      "cell_type": "code",
      "metadata": {
        "id": "-8toFdOdDIwK",
        "outputId": "19b0b56e-5ef0-40fe-97ac-f36f0973728b",
        "colab": {
          "base_uri": "https://localhost:8080/",
          "height": 35
        }
      },
      "source": [
        "my_name = \"David\"\n",
        "my_name[3]"
      ],
      "execution_count": 3,
      "outputs": [
        {
          "output_type": "execute_result",
          "data": {
            "application/vnd.google.colaboratory.intrinsic+json": {
              "type": "string"
            },
            "text/plain": [
              "'i'"
            ]
          },
          "metadata": {
            "tags": []
          },
          "execution_count": 3
        }
      ]
    },
    {
      "cell_type": "code",
      "metadata": {
        "id": "NsdOye1yA0j8"
      },
      "source": [
        ""
      ],
      "execution_count": null,
      "outputs": []
    },
    {
      "cell_type": "code",
      "metadata": {
        "id": "N8KMqmgdA3n8"
      },
      "source": [
        ""
      ],
      "execution_count": null,
      "outputs": []
    }
  ]
}